{
 "cells": [
  {
   "cell_type": "code",
   "execution_count": 3,
   "id": "6c19d409-275f-4698-a39c-92dc67cab0e1",
   "metadata": {},
   "outputs": [],
   "source": [
    "import pandas as pd, numpy as np, matplotlib.pyplot as plt, seaborn as sns\n",
    "from sklearn.model_selection import train_test_split\n",
    "from sklearn.ensemble import RandomForestClassifier\n",
    "from os import listdir\n",
    "import csv\n",
    "import shutil, os\n",
    "import matplotlib.pyplot as plt\n",
    "from sklearn.svm import SVC\n",
    "from sklearn.ensemble import RandomForestClassifier\n",
    "from sklearn.metrics import plot_roc_curve\n",
    "from sklearn.datasets import load_wine\n",
    "from sklearn.model_selection import train_test_split\n",
    "import joblib\n",
    "import sys\n",
    "import lime\n",
    "import lime.lime_tabular\n",
    "import math\n",
    "# path是当前脚本路径的上两级目录\n",
    "path = os.path.abspath(os.path.join(os.path.dirname(\"__file__\"),os.path.pardir,os.path.pardir))\n",
    "# 添加上两级目录(如果自定义模块在上两级目录下)\n",
    "sys.path.append(path)\n",
    "\n",
    "from Candidate1.evaluate_sepsis_score import evaluate_sepsis_score\n",
    "from sklearn.linear_model import LogisticRegression"
   ]
  },
  {
   "cell_type": "code",
   "execution_count": 9,
   "id": "9f0f29eb-b742-41d3-bee0-730ece25323e",
   "metadata": {},
   "outputs": [],
   "source": [
    "'''\n",
    "write all the patient data in the train_patient.csv file\n",
    "append the patient_id tro identify each patient\n",
    "add a time index for the data of each row (i.e., the data measured in an hour)\n",
    "'''\n",
    "def create_test_train_folder(test_npy, train_npy_sepsis,train_npy_nosepsis):\n",
    "    test_set = np.sort(np.load(test_npy))\n",
    "    train_sepsis = np.sort(np.load(train_npy_sepsis))\n",
    "    train_nosepsis = np.sort(np.load(train_npy_nosepsis))\n",
    "    train_set = np.sort(np.concatenate((train_sepsis,train_nosepsis), axis=0))\n",
    "    all_traincsv = listdir('../data/all_dataset')\n",
    "    if not os.path.exists('../data/train_set_rf'):\n",
    "        os.mkdir( '../data/train_set_rf')\n",
    "    if not os.path.exists('../data/test_set_rf'):\n",
    "        os.mkdir( '../data/test_set_rf')\n",
    "\n",
    "\n",
    "    for f in train_set:\n",
    "        shutil.copy(os.path.join('../data/all_dataset', f), '../data/train_set_rf' )\n",
    "\n",
    "    for f in test_set:\n",
    "        shutil.copy(os.path.join('../data/all_dataset', f), '../data/test_set_rf' )"
   ]
  },
  {
   "cell_type": "code",
   "execution_count": null,
   "id": "02be1a88-7d5c-489d-a0ae-7dda951a41b5",
   "metadata": {},
   "outputs": [],
   "source": [
    "'''\n",
    "preprocessing dataset\n",
    "'''\n",
    "def preprocessing_rf(test_npy, train_npy_sepsis,train_npy_nosepsis):\n",
    "    # load the training and testing dataset, which are the same with candidate 1\n",
    "\n",
    "\n",
    "    test_set = np.sort(np.load(test_npy ))\n",
    "    train_sepsis = np.sort(np.load(train_npy_sepsis))\n",
    "    train_nosepsis = np.sort(np.load(train_npy_nosepsis))\n",
    "    train_set =  np.concatenate((train_sepsis,train_nosepsis), axis=0)\n",
    "    all_traincsv = listdir('../data/all_dataset')\n",
    "\n",
    "\n",
    "\n",
    "    # create and write the headers of the file\n",
    "\n",
    "    with open('../data/test_rf.csv', 'w') as csvoutput:\n",
    "        writer = csv.writer(csvoutput, lineterminator='\\n')\n",
    "        with open('../data/all_dataset/'+ all_traincsv[0],'r') as csvinput:\n",
    "            reader = csv.reader(csvinput, delimiter='|')\n",
    "            all = []\n",
    "            row = next(reader)\n",
    "            row.append('Patient_id') \n",
    "            row.append('time')\n",
    "            all.append(row)\n",
    "            writer.writerows(all)\n",
    "    with open('../data/train_rf.csv', 'w') as csvoutput:\n",
    "        writer = csv.writer(csvoutput, lineterminator='\\n')\n",
    "        with open('../data/all_dataset/'+ all_traincsv[0],'r') as csvinput:\n",
    "            reader = csv.reader(csvinput, delimiter='|')\n",
    "            all = []\n",
    "            row = next(reader)\n",
    "            row.append('Patient_id')\n",
    "            row.append('time')\n",
    "            all.append(row)\n",
    "            writer.writerows(all)\n",
    " \n",
    "    with open('../data/train_rf.csv', 'a') as csvoutput:\n",
    "#  csv.reader() Return a reader object which will iterate over lines in the given csvfile.\n",
    "        writer = csv.writer(csvoutput, lineterminator='\\n')\n",
    "        for ind, csv_name in enumerate(train_set):\n",
    "            with open('../data/train_set_rf/'+ csv_name,'r') as csvinput:\n",
    "                reader = csv.reader(csvinput, delimiter='|')\n",
    "                all = []\n",
    "                row = next(reader)\n",
    "                for i,row in enumerate(reader):\n",
    "                    row.append(ind)\n",
    "                    row.append(i)\n",
    "                    all.append(row)\n",
    "                writer.writerows(all)\n",
    "\n",
    "    with open('../data/test_rf.csv', 'a') as csvoutput:\n",
    "#  csv.reader() Return a reader object which will iterate over lines in the given csvfile.\n",
    "        writer = csv.writer(csvoutput, lineterminator='\\n')\n",
    "\n",
    "\n",
    "        for ind, csv_name in enumerate(test_set):\n",
    "            with open('../data/test_set_rf/'+ csv_name,'r') as csvinput:\n",
    "                reader = csv.reader(csvinput, delimiter='|')\n",
    "                all = []\n",
    "                row = next(reader)\n",
    "                for i,row in enumerate(reader):\n",
    "                    row.append(ind)\n",
    "                    row.append(i)\n",
    "                    all.append(row)\n",
    "                writer.writerows(all)\n",
    " "
   ]
  },
  {
   "cell_type": "code",
   "execution_count": null,
   "id": "f8308cc4-489e-4b98-abe0-8954d5ac91cc",
   "metadata": {},
   "outputs": [],
   "source": []
  },
  {
   "cell_type": "code",
   "execution_count": 5,
   "id": "be4fdf82-c383-4d43-8f3b-51a227e69a56",
   "metadata": {},
   "outputs": [],
   "source": [
    "    training_set = pd.read_csv('train_set_all_filled.csv')\n",
    "    X_train = training_set.drop(['SepsisLabel','Patient_id'],  axis =1 )\n",
    "    Y_train = training_set.SepsisLabel"
   ]
  },
  {
   "cell_type": "code",
   "execution_count": 8,
   "id": "3b7aa67b-5e9a-427f-b26b-c9b43933b2ed",
   "metadata": {},
   "outputs": [
    {
     "data": {
      "text/plain": [
       "['../saved_model/LR.sav']"
      ]
     },
     "execution_count": 8,
     "metadata": {},
     "output_type": "execute_result"
    }
   ],
   "source": [
    "    lr = LogisticRegression(random_state=0, max_iter = 1000).fit(X_train, Y_train)\n",
    "    joblib.dump(lr,'../saved_model/LR.sav')"
   ]
  },
  {
   "cell_type": "code",
   "execution_count": 11,
   "id": "cd34a9b3-01fd-4aaf-87a4-b9696c05bc77",
   "metadata": {},
   "outputs": [
    {
     "data": {
      "image/png": "[encoded data removed]",
      "text/plain": [
       "<Figure size 432x288 with 1 Axes>"
      ]
     },
     "metadata": {
      "needs_background": "light"
     },
     "output_type": "display_data"
    },
    {
     "data": {
      "image/png": "[encoded data removed]",
      "text/plain": [
       "<Figure size 432x288 with 1 Axes>"
      ]
     },
     "metadata": {
      "needs_background": "light"
     },
     "output_type": "display_data"
    }
   ],
   "source": [
    "    rf = joblib.load(\"../saved_model/random_forest.sav\")\n",
    "    svc = joblib.load(\"../saved_model/svc.sav\")\n",
    "    svc_disp = plot_roc_curve(svc, X_train, Y_train)\n",
    "    #plt.show()\n",
    "    lr_disp = plot_roc_curve(lr, X_train, Y_train)\n",
    "    # Get the current Axes instance on the current figure matching the given keyword args, or create one.\n",
    "    ax = plt.gca()\n",
    "    rf_disp = plot_roc_curve(rf, X_train, Y_train, ax=ax, alpha=0.8)\n",
    "    svc_disp.plot(ax=ax, alpha=0.8)\n",
    "    lr_disp.plot(ax=ax, alpha=0.8)\n",
    "    plt.show()"
   ]
  },
  {
   "cell_type": "code",
   "execution_count": 13,
   "id": "d15a030d-05f7-4ee5-ac73-ef596f29beb9",
   "metadata": {},
   "outputs": [],
   "source": [
    "    test_set =  np.load('../../Candidate1/data/test_set.npy')\n",
    "    test_set = np.sort(test_set,axis = None)"
   ]
  },
  {
   "cell_type": "code",
   "execution_count": 16,
   "id": "371da0b1-824d-4a8f-9b3e-05ea4b3a52fe",
   "metadata": {},
   "outputs": [],
   "source": [
    "    T=13"
   ]
  },
  {
   "cell_type": "code",
   "execution_count": 17,
   "id": "edbd8d21-3d25-4b8b-bd19-945f349b2210",
   "metadata": {},
   "outputs": [
    {
     "data": {
      "text/plain": [
       "array(['p000016.psv', 'p000025.psv', 'p000027.psv', 'p000029.psv',\n",
       "       'p000046.psv', 'p000047.psv', 'p000050.psv', 'p000062.psv',\n",
       "       'p000065.psv', 'p000073.psv', 'p000081.psv', 'p000085.psv'],\n",
       "      dtype='<U11')"
      ]
     },
     "execution_count": 17,
     "metadata": {},
     "output_type": "execute_result"
    }
   ],
   "source": [
    "    test_set[0:T-1\n",
    "            ]"
   ]
  },
  {
   "cell_type": "code",
   "execution_count": null,
   "id": "0bf3d206-c3dd-424a-a235-4b16cc60c454",
   "metadata": {},
   "outputs": [],
   "source": []
  }
 ],
 "metadata": {
  "kernelspec": {
   "display_name": "tensorflow-gpu (1.14.0)",
   "language": "python",
   "name": "tensorflow"
  },
  "language_info": {
   "codemirror_mode": {
    "name": "ipython",
    "version": 3
   },
   "file_extension": ".py",
   "mimetype": "text/x-python",
   "name": "python",
   "nbconvert_exporter": "python",
   "pygments_lexer": "ipython3",
   "version": "3.6.13"
  }
 },
 "nbformat": 4,
 "nbformat_minor": 5
}
